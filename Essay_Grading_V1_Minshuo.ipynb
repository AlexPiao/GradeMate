{
  "cells": [
    {
      "cell_type": "markdown",
      "id": "77742546",
      "metadata": {
        "id": "77742546"
      },
      "source": [
        "# Summary of the Essay Grading V1\n",
        "\n",
        "This notebook demonstrates the generation of assignment prompts and realistic student responses using OpenAI's API. It integrates various components to define criteria, generate assignments, and display results in Markdown format for better readability.\n",
        "\n",
        "## Key Sections\n",
        "\n",
        "### 1. **Library Imports**\n",
        "The notebook begins by importing necessary libraries:\n",
        "- **`openai`**: To interact with OpenAI's API.\n",
        "- **`dotenv`**: To securely manage environment variables.\n",
        "- **`random`**: For random selection of prompts and grade-subject pairs.\n",
        "- **`pandas`, `numpy`, `matplotlib`**: Utilities for data manipulation and visualization.\n",
        "- **`IPython.display`**: For displaying content in Markdown format.\n",
        "\n",
        "### 2. **Environment Variable Setup**\n",
        "- Automatically locates and loads the `.env` file containing the OpenAI API key.\n",
        "- The key is then set using `openai.api_key`.\n",
        "\n",
        "### 3. **Function: `generate_prompts`**\n",
        "- Generates 10 unique assignment prompts for each grade-subject-area combination.\n",
        "- Prompts are customized based on the subject area:\n",
        "  - **Social Science**: Essay-focused.\n",
        "  - **Science**: Lab report-focused.\n",
        "  - **Language Arts**: Literary analysis-focused.\n",
        "  - **Default**: Generic critical thinking prompts.\n",
        "- Uses OpenAI API to create prompts and displays them in Markdown format.\n",
        "\n",
        "### 4. **Example Usage of `generate_prompts`**\n",
        "- Demonstrates generating prompts for **11th-grade U.S. History** in the **Social Science** category.\n",
        "- Randomly selects a key and a prompt from the generated dictionary for display.\n",
        "\n",
        "### 5. **Function: `generate_assignments_with_criteria_definitions`**\n",
        "- Generates realistic student assignments based on:\n",
        "  - A fixed prompt (`deterministic_assignment_prompt`).\n",
        "  - Criteria scores for quality metrics:\n",
        "    - **Content**\n",
        "    - **Clarity**\n",
        "    - **Organization**\n",
        "    - **Relevance to Prompt**\n",
        "- Outputs assignments that align with predefined quality levels.\n",
        "\n",
        "### 6. **Criteria Scores**\n",
        "Defines multiple levels of quality for generated assignments:\n",
        "- **D Grade**: Scores around 60–70.\n",
        "- **B Grade**: Scores around 85–88.\n",
        "- **C Grade**: Scores around 75–80.\n",
        "- **A Grade**: Scores near 99–100.\n",
        "\n",
        "### 7. **Deterministic Assignment Prompt**\n",
        "The fixed prompt used for all generated assignments: \"Evaluate the effects of the Great Depression on American society and politics. How did the economic crisis of the 1930s reshape government intervention and social welfare policies in the United States?\"\n",
        "\n",
        "\n",
        "### 8. **Generate and Display Assignments**\n",
        "- Uses `generate_assignments_with_criteria_definitions` to produce assignments based on the criteria scores.\n",
        "- Displays the results in Markdown format, including:\n",
        "  - Criteria scores.\n",
        "  - The generated assignment text.\n",
        "\n",
        "## Key Outputs\n",
        "- **Assignment Prompts**: 10 unique prompts for each grade-subject pair.\n",
        "- **Student Assignments**: Realistic responses reflecting specific quality levels.\n",
        "\n",
        "## Purpose\n",
        "This notebook:\n",
        "- Simplifies prompt and assignment generation for educators.\n",
        "- Demonstrates AI-driven text generation based on predefined criteria.\n",
        "- Provides clear and structured Markdown outputs for review and analysis."
      ]
    },
    {
      "cell_type": "code",
      "source": [
        "!pip install openai==0.28\n",
        "!pip install python-dotenv\n",
        "!pip install IPython"
      ],
      "metadata": {
        "colab": {
          "base_uri": "https://localhost:8080/"
        },
        "collapsed": true,
        "id": "6ICCeGfDKi4O",
        "outputId": "20efba89-1e75-49ca-a5b5-7d9b14fd7b44"
      },
      "id": "6ICCeGfDKi4O",
      "execution_count": 1,
      "outputs": [
        {
          "output_type": "stream",
          "name": "stdout",
          "text": [
            "Collecting openai==0.28\n",
            "  Downloading openai-0.28.0-py3-none-any.whl.metadata (13 kB)\n",
            "Requirement already satisfied: requests>=2.20 in /usr/local/lib/python3.10/dist-packages (from openai==0.28) (2.32.3)\n",
            "Requirement already satisfied: tqdm in /usr/local/lib/python3.10/dist-packages (from openai==0.28) (4.66.6)\n",
            "Requirement already satisfied: aiohttp in /usr/local/lib/python3.10/dist-packages (from openai==0.28) (3.11.2)\n",
            "Requirement already satisfied: charset-normalizer<4,>=2 in /usr/local/lib/python3.10/dist-packages (from requests>=2.20->openai==0.28) (3.4.0)\n",
            "Requirement already satisfied: idna<4,>=2.5 in /usr/local/lib/python3.10/dist-packages (from requests>=2.20->openai==0.28) (3.10)\n",
            "Requirement already satisfied: urllib3<3,>=1.21.1 in /usr/local/lib/python3.10/dist-packages (from requests>=2.20->openai==0.28) (2.2.3)\n",
            "Requirement already satisfied: certifi>=2017.4.17 in /usr/local/lib/python3.10/dist-packages (from requests>=2.20->openai==0.28) (2024.8.30)\n",
            "Requirement already satisfied: aiohappyeyeballs>=2.3.0 in /usr/local/lib/python3.10/dist-packages (from aiohttp->openai==0.28) (2.4.3)\n",
            "Requirement already satisfied: aiosignal>=1.1.2 in /usr/local/lib/python3.10/dist-packages (from aiohttp->openai==0.28) (1.3.1)\n",
            "Requirement already satisfied: attrs>=17.3.0 in /usr/local/lib/python3.10/dist-packages (from aiohttp->openai==0.28) (24.2.0)\n",
            "Requirement already satisfied: frozenlist>=1.1.1 in /usr/local/lib/python3.10/dist-packages (from aiohttp->openai==0.28) (1.5.0)\n",
            "Requirement already satisfied: multidict<7.0,>=4.5 in /usr/local/lib/python3.10/dist-packages (from aiohttp->openai==0.28) (6.1.0)\n",
            "Requirement already satisfied: propcache>=0.2.0 in /usr/local/lib/python3.10/dist-packages (from aiohttp->openai==0.28) (0.2.0)\n",
            "Requirement already satisfied: yarl<2.0,>=1.17.0 in /usr/local/lib/python3.10/dist-packages (from aiohttp->openai==0.28) (1.17.2)\n",
            "Requirement already satisfied: async-timeout<6.0,>=4.0 in /usr/local/lib/python3.10/dist-packages (from aiohttp->openai==0.28) (4.0.3)\n",
            "Requirement already satisfied: typing-extensions>=4.1.0 in /usr/local/lib/python3.10/dist-packages (from multidict<7.0,>=4.5->aiohttp->openai==0.28) (4.12.2)\n",
            "Downloading openai-0.28.0-py3-none-any.whl (76 kB)\n",
            "\u001b[?25l   \u001b[90m━━━━━━━━━━━━━━━━━━━━━━━━━━━━━━━━━━━━━━━━\u001b[0m \u001b[32m0.0/76.5 kB\u001b[0m \u001b[31m?\u001b[0m eta \u001b[36m-:--:--\u001b[0m\r\u001b[2K   \u001b[91m━━━━━━━━━━━━━━━━━━━━━━━━━━━━━━━━━━━━━\u001b[0m\u001b[90m╺\u001b[0m\u001b[90m━━\u001b[0m \u001b[32m71.7/76.5 kB\u001b[0m \u001b[31m3.3 MB/s\u001b[0m eta \u001b[36m0:00:01\u001b[0m\r\u001b[2K   \u001b[90m━━━━━━━━━━━━━━━━━━━━━━━━━━━━━━━━━━━━━━━━\u001b[0m \u001b[32m76.5/76.5 kB\u001b[0m \u001b[31m1.8 MB/s\u001b[0m eta \u001b[36m0:00:00\u001b[0m\n",
            "\u001b[?25hInstalling collected packages: openai\n",
            "  Attempting uninstall: openai\n",
            "    Found existing installation: openai 1.54.4\n",
            "    Uninstalling openai-1.54.4:\n",
            "      Successfully uninstalled openai-1.54.4\n",
            "Successfully installed openai-0.28.0\n",
            "Collecting python-dotenv\n",
            "  Downloading python_dotenv-1.0.1-py3-none-any.whl.metadata (23 kB)\n",
            "Downloading python_dotenv-1.0.1-py3-none-any.whl (19 kB)\n",
            "Installing collected packages: python-dotenv\n",
            "Successfully installed python-dotenv-1.0.1\n",
            "Requirement already satisfied: IPython in /usr/local/lib/python3.10/dist-packages (7.34.0)\n",
            "Requirement already satisfied: setuptools>=18.5 in /usr/local/lib/python3.10/dist-packages (from IPython) (75.1.0)\n",
            "Collecting jedi>=0.16 (from IPython)\n",
            "  Downloading jedi-0.19.2-py2.py3-none-any.whl.metadata (22 kB)\n",
            "Requirement already satisfied: decorator in /usr/local/lib/python3.10/dist-packages (from IPython) (4.4.2)\n",
            "Requirement already satisfied: pickleshare in /usr/local/lib/python3.10/dist-packages (from IPython) (0.7.5)\n",
            "Requirement already satisfied: traitlets>=4.2 in /usr/local/lib/python3.10/dist-packages (from IPython) (5.7.1)\n",
            "Requirement already satisfied: prompt-toolkit!=3.0.0,!=3.0.1,<3.1.0,>=2.0.0 in /usr/local/lib/python3.10/dist-packages (from IPython) (3.0.48)\n",
            "Requirement already satisfied: pygments in /usr/local/lib/python3.10/dist-packages (from IPython) (2.18.0)\n",
            "Requirement already satisfied: backcall in /usr/local/lib/python3.10/dist-packages (from IPython) (0.2.0)\n",
            "Requirement already satisfied: matplotlib-inline in /usr/local/lib/python3.10/dist-packages (from IPython) (0.1.7)\n",
            "Requirement already satisfied: pexpect>4.3 in /usr/local/lib/python3.10/dist-packages (from IPython) (4.9.0)\n",
            "Requirement already satisfied: parso<0.9.0,>=0.8.4 in /usr/local/lib/python3.10/dist-packages (from jedi>=0.16->IPython) (0.8.4)\n",
            "Requirement already satisfied: ptyprocess>=0.5 in /usr/local/lib/python3.10/dist-packages (from pexpect>4.3->IPython) (0.7.0)\n",
            "Requirement already satisfied: wcwidth in /usr/local/lib/python3.10/dist-packages (from prompt-toolkit!=3.0.0,!=3.0.1,<3.1.0,>=2.0.0->IPython) (0.2.13)\n",
            "Downloading jedi-0.19.2-py2.py3-none-any.whl (1.6 MB)\n",
            "\u001b[2K   \u001b[90m━━━━━━━━━━━━━━━━━━━━━━━━━━━━━━━━━━━━━━━━\u001b[0m \u001b[32m1.6/1.6 MB\u001b[0m \u001b[31m21.2 MB/s\u001b[0m eta \u001b[36m0:00:00\u001b[0m\n",
            "\u001b[?25hInstalling collected packages: jedi\n",
            "Successfully installed jedi-0.19.2\n"
          ]
        }
      ]
    },
    {
      "cell_type": "code",
      "execution_count": 5,
      "id": "9accf061",
      "metadata": {
        "id": "9accf061"
      },
      "outputs": [],
      "source": [
        "# Import necessary libraries\n",
        "import openai  # OpenAI API for generating text based on prompts\n",
        "from IPython.display import display, Markdown  # Markdown display tools for Jupyter Notebooks\n",
        "import os  # OS library for file and directory interactions\n",
        "from dotenv import load_dotenv, find_dotenv  # dotenv utilities for managing environment variables\n",
        "import re  # Regular expressions library for text pattern matching and formatting\n",
        "import random  # Random module for generating randomized values, such as quality levels\n",
        "import matplotlib.pyplot as plt\n",
        "import pandas as pd\n",
        "import numpy as np\n",
        "from google.colab import userdata\n",
        "\n",
        "# Function to convert text to Markdown format, allowing formatted display in Jupyter Notebooks\n",
        "def to_markdown(text):\n",
        "    # Wraps text in Markdown format for enhanced readability and presentation in Jupyter Notebooks\n",
        "    return Markdown(text)"
      ]
    },
    {
      "cell_type": "code",
      "execution_count": 6,
      "id": "f0f12161",
      "metadata": {
        "id": "f0f12161"
      },
      "outputs": [],
      "source": [
        "OPENAI_API_KEY = userdata.get('OPENAI_API_KEY')\n",
        "openai.api_key = OPENAI_API_KEY"
      ]
    },
    {
      "cell_type": "markdown",
      "id": "f2503ca1",
      "metadata": {
        "id": "f2503ca1"
      },
      "source": [
        "## `generate_prompts` Function\n",
        "\n",
        "This function generates customized assignment prompts based on grade level, subject, and subject area using OpenAI's API. It outputs the generated prompts in Markdown format for easy display.\n",
        "\n",
        "### Inputs\n",
        "- **`pairs`**: A list of tuples containing:\n",
        "  - `grade_level` (e.g., 9, 10, 11)\n",
        "  - `subject` (e.g., \"Biology\", \"US History\")\n",
        "  - `subject_area` (e.g., \"Science\", \"Social Science\")\n",
        "\n",
        "### How It Works\n",
        "1. **Iterates through Input Pairs**:  \n",
        "   For each `(grade_level, subject, subject_area)` combination, the function generates prompts.\n",
        "   \n",
        "2. **Customizes Prompts**:  \n",
        "   Based on `subject_area`:\n",
        "   - **Social Science**: Focuses on essay structure and critical analysis.\n",
        "   - **Science**: Emphasizes lab reports and scientific inquiry.\n",
        "   - **Language Arts**: Highlights literary analysis.\n",
        "   - **Default**: Generic assignment prompts for other areas.\n",
        "\n",
        "3. **Uses OpenAI API**:  \n",
        "   The function sends the instructions to OpenAI's `gpt-3.5-turbo` model to generate 10 unique prompts.\n",
        "\n",
        "4. **Cleans Up Prompts**:  \n",
        "   Extracts and formats the output to ensure a clean list of exactly 10 prompts.\n",
        "\n",
        "5. **Displays Prompts**:  \n",
        "   The generated prompts are displayed in Markdown format for better readability.\n",
        "\n",
        "### Outputs\n",
        "- **`all_prompts`**: A dictionary with:\n",
        "  - Keys: `(grade_level, subject, subject_area)`\n",
        "  - Values: List of 10 assignment prompts.\n",
        "\n",
        "This function helps educators quickly generate high-quality, subject-specific prompts tailored to their students' needs.\n",
        "\n",
        "**Note:** For now, we will just pass in one assignment prompt, which is the string varibale \"deterministic_assignment_prompt\" initiated below.\n"
      ]
    },
    {
      "cell_type": "code",
      "execution_count": 7,
      "id": "d3c802c2",
      "metadata": {
        "id": "d3c802c2"
      },
      "outputs": [],
      "source": [
        "# Function to generate assignment prompts based on grade, subject, and subject area\n",
        "def generate_prompts(pairs):\n",
        "    all_prompts = {}\n",
        "    for grade_level, subject, subject_area in pairs:\n",
        "\n",
        "        # Define unique prompt instructions based on subject area\n",
        "        if subject_area.lower() == \"social science\":\n",
        "            # Social Science: Emphasize formal essay structure\n",
        "            prompt_text = f\"\"\"\n",
        "            Role: You are a {grade_level}th-grade {subject} teacher. Please create 10 unique essay prompts.\n",
        "\n",
        "            Each prompt should:\n",
        "            - Be age-appropriate for {grade_level}th grade\n",
        "            - Encourage students to critically analyze historical events, societal changes, or key figures in {subject}\n",
        "            - Focus on a structured essay format (no creative formats such as diaries or newspaper articles)\n",
        "            - Explore themes like cause and effect, comparison, or ethical implications\n",
        "\n",
        "            Ensure each prompt is clear, concise, and well-suited for a formal essay response.\n",
        "            \"\"\"\n",
        "\n",
        "        elif subject_area.lower() == \"science\":\n",
        "            # Science: Focus on lab reports and experimental design\n",
        "            prompt_text = f\"\"\"\n",
        "            Role: You are a {grade_level}th-grade {subject} teacher. Please create 10 unique lab report prompts.\n",
        "\n",
        "            Each prompt should:\n",
        "            - Be age-appropriate for {grade_level}th grade\n",
        "            - Encourage students to design experiments, make observations, and analyze results in {subject}\n",
        "            - Emphasize the scientific method, hypothesis formation, and data interpretation\n",
        "\n",
        "            Ensure each prompt guides students through scientific inquiry in a lab report format.\n",
        "            \"\"\"\n",
        "\n",
        "        elif subject_area.lower() == \"language arts\":\n",
        "            # Language Arts: Focus on literary analysis\n",
        "            prompt_text = f\"\"\"\n",
        "            Role: You are a {grade_level}th-grade {subject} teacher. Please create 10 unique literary analysis prompts.\n",
        "\n",
        "            Each prompt should:\n",
        "            - Be age-appropriate for {grade_level}th grade\n",
        "            - Encourage students to analyze themes, characters, and symbols in literature\n",
        "            - Challenge students to interpret literary elements and provide textual evidence\n",
        "\n",
        "            Ensure each prompt is clear, concise, and encourages in-depth literary analysis.\n",
        "            \"\"\"\n",
        "\n",
        "        else:\n",
        "            # Default prompt format for unspecified subjects\n",
        "            prompt_text = f\"\"\"\n",
        "            Role: You are a {grade_level}th-grade {subject} teacher. Please create 10 unique assignment prompts.\n",
        "\n",
        "            Each prompt should:\n",
        "            - Be age-appropriate for {grade_level}th grade\n",
        "            - Challenge students' understanding, encouraging critical thinking and engagement with the subject matter\n",
        "\n",
        "            Ensure each prompt is clear, concise, and engaging.\n",
        "            \"\"\"\n",
        "\n",
        "        # Generate prompts using OpenAI API\n",
        "        completion = openai.ChatCompletion.create(\n",
        "            model=\"gpt-3.5-turbo\",\n",
        "            messages=[\n",
        "                {\"role\": \"system\", \"content\": \"You are a creative and insightful prompt generator for teachers.\"},\n",
        "                {\"role\": \"user\", \"content\": prompt_text}\n",
        "            ]\n",
        "        )\n",
        "\n",
        "        # Extract prompts and clean up formatting\n",
        "        prompts_text = completion.choices[0].message['content']\n",
        "        prompts_list = [re.sub(r'^\\d+\\.\\s*', '', prompt.strip()) for prompt in prompts_text.split('\\n') if prompt.strip()]\n",
        "        prompts_list = prompts_list[:10]  # Keep exactly 10 prompts\n",
        "        all_prompts[(grade_level, subject, subject_area)] = prompts_list\n",
        "\n",
        "        # Display prompts in Markdown format\n",
        "        display(Markdown(f\"### Generated Prompts for {grade_level}th Grade {subject} ({subject_area})\"))\n",
        "        for i, prompt in enumerate(prompts_list, start=1):\n",
        "            display(Markdown(f\"**Prompt {i}:** {prompt}\"))\n",
        "\n",
        "    return all_prompts\n"
      ]
    },
    {
      "cell_type": "markdown",
      "id": "a970af9c",
      "metadata": {
        "id": "a970af9c"
      },
      "source": [
        "## Example Usage of `generate_prompts`\n",
        "\n",
        "This code snippet demonstrates how to use the `generate_prompts` function to create assignment prompts for a specific grade level, subject, and subject area.\n",
        "\n",
        "### Inputs\n",
        "- **`grade_subject_pairs`**: A list containing tuples of grade level, subject, and subject area.\n",
        "  - Example: `(11, \"US History\", \"Social Science\")`\n",
        "\n",
        "### Process\n",
        "- The function `generate_prompts` takes `grade_subject_pairs` as input.\n",
        "- For each tuple, it generates 10 unique assignment prompts tailored to the grade level, subject, and subject area.\n",
        "\n",
        "### Current Configuration\n",
        "- Generates prompts only for **11th-grade U.S. History** in the **Social Science** category.\n",
        "- Additional pairs (e.g., Biology or Literature) are commented out but can be included by uncommenting them.\n",
        "\n",
        "### Output\n",
        "- **`all_prompts`**: A dictionary containing the generated prompts, displayed in Markdown format for easy review.\n"
      ]
    },
    {
      "cell_type": "code",
      "execution_count": 8,
      "id": "fe30ad8d",
      "metadata": {
        "colab": {
          "base_uri": "https://localhost:8080/",
          "height": 467
        },
        "id": "fe30ad8d",
        "outputId": "7759b25b-e362-4b39-fff1-a010c0c7f0d0"
      },
      "outputs": [
        {
          "output_type": "display_data",
          "data": {
            "text/plain": [
              "<IPython.core.display.Markdown object>"
            ],
            "text/markdown": "### Generated Prompts for 11th Grade US History (Social Science)"
          },
          "metadata": {}
        },
        {
          "output_type": "display_data",
          "data": {
            "text/plain": [
              "<IPython.core.display.Markdown object>"
            ],
            "text/markdown": "**Prompt 1:** Compare and contrast the goals and impacts of the Civil Rights Movement of the 1960s with the Black Lives Matter movement of today. How have strategies, challenges, and achievements differed or remained similar over time?"
          },
          "metadata": {}
        },
        {
          "output_type": "display_data",
          "data": {
            "text/plain": [
              "<IPython.core.display.Markdown object>"
            ],
            "text/markdown": "**Prompt 2:** Analyze the effects of westward expansion in the 19th century on Native American tribes. Evaluate the federal policies and societal attitudes that shaped their experiences, and discuss the lasting implications on Native American communities."
          },
          "metadata": {}
        },
        {
          "output_type": "display_data",
          "data": {
            "text/plain": [
              "<IPython.core.display.Markdown object>"
            ],
            "text/markdown": "**Prompt 3:** Assess the role of women in the Progressive Era. How did women's suffrage, activism, and social reforms contribute to the broader goals of the Progressive movement? Consider both successes and limitations in achieving gender equality."
          },
          "metadata": {}
        },
        {
          "output_type": "display_data",
          "data": {
            "text/plain": [
              "<IPython.core.display.Markdown object>"
            ],
            "text/markdown": "**Prompt 4:** Discuss the economic and social impact of the Great Depression on American society. How did the New Deal programs of the 1930s attempt to address the challenges faced by individuals, families, and the nation as a whole?"
          },
          "metadata": {}
        },
        {
          "output_type": "display_data",
          "data": {
            "text/plain": [
              "<IPython.core.display.Markdown object>"
            ],
            "text/markdown": "**Prompt 5:** Examine the causes and consequences of the Red Scare in the United States during the early 20th century. How did fears of communism shape government policies, civil liberties, and public attitudes towards dissenting viewpoints?"
          },
          "metadata": {}
        },
        {
          "output_type": "display_data",
          "data": {
            "text/plain": [
              "<IPython.core.display.Markdown object>"
            ],
            "text/markdown": "**Prompt 6:** Evaluate the ethical considerations surrounding the use of atomic bombs on Hiroshima and Nagasaki during World War II. Discuss the decision-making process of President Truman, the arguments for and against the bombings, and the long-term implications for international relations and warfare."
          },
          "metadata": {}
        },
        {
          "output_type": "display_data",
          "data": {
            "text/plain": [
              "<IPython.core.display.Markdown object>"
            ],
            "text/markdown": "**Prompt 7:** Investigate the impact of the Vietnam War on American society and politics. Analyze the factors that led to public opposition, the roles of media and protests, and the legacies of the conflict on veterans and government decision-making."
          },
          "metadata": {}
        },
        {
          "output_type": "display_data",
          "data": {
            "text/plain": [
              "<IPython.core.display.Markdown object>"
            ],
            "text/markdown": "**Prompt 8:** Explore the historical development of the American labor movement in the late 19th and early 20th centuries. How did labor unions organize, advocate for worker's rights, and shape workplace conditions, wages, and benefits in industries such as mining, factory work, and transportation?"
          },
          "metadata": {}
        },
        {
          "output_type": "display_data",
          "data": {
            "text/plain": [
              "<IPython.core.display.Markdown object>"
            ],
            "text/markdown": "**Prompt 9:** Examine the changing roles and perceptions of LGBTQ individuals in American history. From the Stonewall riots to the legalization of same-sex marriage, trace the milestones, challenges, and cultural shifts that have marked the LGBTQ rights movement in the United States."
          },
          "metadata": {}
        },
        {
          "output_type": "display_data",
          "data": {
            "text/plain": [
              "<IPython.core.display.Markdown object>"
            ],
            "text/markdown": "**Prompt 10:** Critically evaluate the impact of the Civil War on the concept of American identity. How did the conflict over slavery, states' rights, and unity reshape national values, citizenship, and understandings of freedom and equality for generations to come?"
          },
          "metadata": {}
        }
      ],
      "source": [
        "# Example usage with grade-subject-area pairs, each containing 3 elements\n",
        "grade_subject_pairs = [\n",
        "    (11, \"US History\", \"Social Science\")\n",
        "    #(10, \"Biology\", \"Science\"),\n",
        "    #(9, \"Literature\", \"Language Arts\")\n",
        "]\n",
        "all_prompts = generate_prompts(grade_subject_pairs)\n"
      ]
    },
    {
      "cell_type": "markdown",
      "id": "6f300ddc",
      "metadata": {
        "id": "6f300ddc"
      },
      "source": [
        "## Random Prompt Selection\n",
        "\n",
        "This code snippet selects a random assignment prompt from the generated prompts in `all_prompts`.\n",
        "\n",
        "### Process\n",
        "1. **Select a Random Key**:\n",
        "   - A random grade-subject tuple is chosen from the keys in the `all_prompts` dictionary.\n",
        "   - Example: `(11, \"US History\", \"Social Science\")`.\n",
        "\n",
        "2. **Select a Random Prompt**:\n",
        "   - From the prompts associated with the chosen key, one prompt is randomly selected.\n",
        "\n",
        "3. **Display the Result**:\n",
        "   - Prints the randomly selected grade-subject key and the corresponding prompt.\n",
        "\n",
        "### Purpose\n",
        "- Useful for dynamically showcasing a single assignment prompt from the generated set.\n",
        "- Adds variability when selecting prompts for review or testing.\n"
      ]
    },
    {
      "cell_type": "code",
      "execution_count": 9,
      "id": "ddb7ad43",
      "metadata": {
        "colab": {
          "base_uri": "https://localhost:8080/"
        },
        "id": "ddb7ad43",
        "outputId": "eaffe31f-d96c-49fa-ac97-0335e3ebe5ad"
      },
      "outputs": [
        {
          "output_type": "stream",
          "name": "stdout",
          "text": [
            "Randomly Selected Prompt for (11, 'US History', 'Social Science'): Discuss the economic and social impact of the Great Depression on American society. How did the New Deal programs of the 1930s attempt to address the challenges faced by individuals, families, and the nation as a whole?\n"
          ]
        }
      ],
      "source": [
        "# Randomly select a grade-subject key\n",
        "random_key = random.choice(list(all_prompts.keys()))\n",
        "\n",
        "# Randomly select a prompt from the chosen key\n",
        "selected_prompt = random.choice(all_prompts[random_key])\n",
        "\n",
        "# Display the result\n",
        "print(f\"Randomly Selected Prompt for {random_key}: {selected_prompt}\")\n"
      ]
    },
    {
      "cell_type": "markdown",
      "id": "363c5395",
      "metadata": {
        "id": "363c5395"
      },
      "source": [
        "## `generate_assignments_with_criteria_definitions` Function\n",
        "\n",
        "This function generates realistic student assignments based on a fixed prompt and predefined quality metrics. It uses OpenAI's API to produce responses aligned with grade-level expectations and assessment criteria.\n",
        "\n",
        "### Inputs\n",
        "- **`deterministic_assignment_prompt`**:  \n",
        "  A fixed assignment prompt that students will respond to (e.g., \"Evaluate the effects of the Great Depression on American society and politics.\").\n",
        "  \n",
        "- **`grade_subject_pairs`**:  \n",
        "  A list of tuples representing the grade level, subject, and subject area (e.g., `(11, \"US History\", \"Social Science\")`).\n",
        "\n",
        "- **`criteria_scores_list`**:  \n",
        "  A list of dictionaries specifying quality metrics for the generated responses:\n",
        "  - `Content`\n",
        "  - `Clarity`\n",
        "  - `Organization`\n",
        "  - `Relevance to Prompt`  \n",
        "  Each score ranges from 0 to 100.\n",
        "\n",
        "### Workflow\n",
        "1. **Iterate Through Criteria Scores**:  \n",
        "   For each dictionary in `criteria_scores_list`, the function generates an assignment response reflecting the provided scores.\n",
        "\n",
        "2. **Random Grade-Subject Pair Selection**:  \n",
        "   Randomly selects a tuple from `grade_subject_pairs` to provide context for the assignment (e.g., 11th-grade U.S. History).\n",
        "\n",
        "3. **OpenAI API Call**:  \n",
        "   Sends the fixed prompt, grade level, and assessment criteria to the API for response generation.\n",
        "\n",
        "4. **Extract and Store Assignment Text**:  \n",
        "   Captures the generated response, along with metadata like the grade-subject pair and criteria scores.\n",
        "\n",
        "5. **Display Results in Markdown**:  \n",
        "   Each assignment's:\n",
        "   - **Criteria Scores**\n",
        "   - **Generated Assignment Text**  \n",
        "   are displayed in a readable Markdown format.\n",
        "\n",
        "### Output\n",
        "- Returns a list of assignments, where each entry includes:\n",
        "  - `Prompt`: The fixed prompt used.\n",
        "  - `Grade_Subject_Pair`: The grade level, subject, and subject area.\n",
        "  - `Criteria_Scores`: The quality metrics applied.\n",
        "  - `Assignment`: The generated student response.\n",
        "\n",
        "### Purpose\n",
        "- This function is designed to simulate realistic student responses tailored to specific quality expectations. It's useful for training or testing grading models and evaluating student performance under controlled conditions.\n",
        "\n",
        "\n",
        "\n",
        "\n",
        "\n"
      ]
    },
    {
      "cell_type": "code",
      "execution_count": 12,
      "id": "29628e1d",
      "metadata": {
        "id": "29628e1d"
      },
      "outputs": [],
      "source": [
        "def generate_assignments_with_criteria_definitions(deterministic_assignment_prompt, grade_subject_pairs, criteria_scores_list, score_descriptions):\n",
        "    \"\"\"\n",
        "    Generate assignments with quality reflecting U.S. grade levels and an agent-based student theme.\n",
        "    Include explicit criteria definitions and grading scale in the prompt.\n",
        "\n",
        "    Args:\n",
        "        deterministic_assignment_prompt (str): The fixed prompt to generate assignments for.\n",
        "        grade_subject_pairs (list): List of tuples containing grade level, subject, and subject area.\n",
        "        criteria_scores_list (list): List of dictionaries with scores for Content, Clarity, Organization, and Relevance.\n",
        "\n",
        "    Returns:\n",
        "        list: List of generated assignments with quality reflecting criteria scores.\n",
        "    \"\"\"\n",
        "    assignments = []  # List to store assignments\n",
        "\n",
        "    for idx, scores in enumerate(criteria_scores_list, start=1):\n",
        "        # Extract criteria scores\n",
        "        content_score = scores['Content']\n",
        "        clarity_score = scores['Clarity']\n",
        "        organization_score = scores['Organization']\n",
        "        relevance_score = scores['Relevance to Prompt']\n",
        "\n",
        "        # Randomly select a grade-subject pair for context\n",
        "        grade_level, subject, subject_area = random.choice(grade_subject_pairs)\n",
        "\n",
        "        # Use OpenAI to generate an assignment reflecting the quality\n",
        "        completion = openai.ChatCompletion.create(\n",
        "            model=\"gpt-3.5-turbo\",\n",
        "            messages=[\n",
        "                {\"role\": \"system\", \"content\": \"You are a skilled agent creating realistic student responses based on U.S. grade levels and quality metrics.\"},\n",
        "                {\"role\": \"user\", \"content\": f\"\"\"\n",
        "                    You are a student in {grade_level}th-grade {subject}. Respond to the following assignment prompt:\n",
        "\n",
        "                    {deterministic_assignment_prompt}\n",
        "\n",
        "                    Your response should reflect your understanding and skills as a {grade_level}th-grade student.\n",
        "\n",
        "                    The quality of your response must align with these metrics for a {grade_level}th-grade level assignment:\n",
        "                    - Content: {content_score}/100\n",
        "                    - Clarity: {clarity_score}/100\n",
        "                    - Organization: {organization_score}/100\n",
        "                    - Relevance to Prompt: {relevance_score}/100\n",
        "\n",
        "                    Additional descriptions for the criteria are as follows:\n",
        "                    {score_descriptions}\n",
        "\n",
        "                    Write a realistic response considering the grade-level, the scores provided, and the definitions of each criterion.\n",
        "                    The output will only be the assignment text.\n",
        "                \"\"\"}\n",
        "            ]\n",
        "        )\n",
        "\n",
        "        # Extract the generated assignment text\n",
        "        assignment_text = completion.choices[0].message['content']\n",
        "\n",
        "        # Add metadata and assignment text to the list\n",
        "        assignments.append({\n",
        "            'Prompt': deterministic_assignment_prompt,\n",
        "            'Grade_Subject_Pair': (grade_level, subject, subject_area),\n",
        "            'Criteria_Scores': scores,\n",
        "            'Assignment': assignment_text\n",
        "        })\n",
        "\n",
        "        # Display the assignment in Markdown\n",
        "        display(Markdown(f\"### Assignment {idx}\"))\n",
        "        display(Markdown(f\"**Criteria Scores:**\"))\n",
        "        display(Markdown(f\"- **Content:** {content_score}/100\"))\n",
        "        display(Markdown(f\"- **Clarity:** {clarity_score}/100\"))\n",
        "        display(Markdown(f\"- **Organization:** {organization_score}/100\"))\n",
        "        display(Markdown(f\"- **Relevance to Prompt:** {relevance_score}/100\"))\n",
        "        display(Markdown(f\"**Score Descriptions:** {score_descriptions}\"))\n",
        "        display(Markdown(f\"**Assignment Text:** {assignment_text}\"))\n",
        "\n",
        "    return assignments\n"
      ]
    },
    {
      "cell_type": "markdown",
      "id": "171caf0c",
      "metadata": {
        "id": "171caf0c"
      },
      "source": [
        "## Criteria Scores and Assignment Prompt\n",
        "\n",
        "### `criteria_scores_list`\n",
        "Defines quality metrics for assignments with the following criteria:\n",
        "- **Content**: Depth and accuracy.\n",
        "- **Clarity**: Expression and articulation.\n",
        "- **Organization**: Logical flow.\n",
        "- **Relevance to Prompt**: Focus and alignment with the topic.\n",
        "\n",
        "### Example Scores:\n",
        "- **D Grade**: Content: 63, Clarity: 70, Organization: 66, Relevance: 64\n",
        "- **B Grade**: Content: 85, Clarity: 88, Organization: 87, Relevance: 86\n",
        "- **C Grade**: Content: 78, Clarity: 75, Organization: 80, Relevance: 79\n",
        "- **A Grade**: Content: 99, Clarity: 100, Organization: 98, Relevance: 97\n",
        "\n",
        "### `deterministic_assignment_prompt`\n",
        "**A fixed prompt addressing the Great Depression:** Evaluate the effects of the Great Depression on American society and politics. How did the economic crisis of the 1930s reshape government intervention and social welfare policies in the United States?\n",
        "\n",
        "\n",
        "### Purpose\n",
        "- Scores define response quality.\n",
        "- The prompt ensures consistency across assignments.\n",
        "\n",
        "\n",
        "\n",
        "\n",
        "\n"
      ]
    },
    {
      "cell_type": "code",
      "execution_count": 11,
      "id": "0f79685a",
      "metadata": {
        "id": "0f79685a"
      },
      "outputs": [],
      "source": [
        "criteria_scores_list = [\n",
        "    {'Content': 63, 'Clarity': 70, 'Organization': 66, 'Relevance to Prompt': 64},\n",
        "    {'Content': 85, 'Clarity': 88, 'Organization': 87, 'Relevance to Prompt': 86},\n",
        "    {'Content': 78, 'Clarity': 75, 'Organization': 80, 'Relevance to Prompt': 79},\n",
        "    {'Content': 99, 'Clarity': 100, 'Organization': 98, 'Relevance to Prompt': 97}\n",
        "]\n",
        "\n",
        "\n",
        "deterministic_assignment_prompt = \"\"\"\n",
        "Evaluate the effects of the Great Depression on American society and politics.\n",
        "How did the economic crisis of the 1930s reshape government intervention and social welfare policies in the United States?\n",
        "\n",
        "\"\"\""
      ]
    },
    {
      "cell_type": "code",
      "source": [
        "score_descriptions = \"\"\"\n",
        "Each criterion is scored from 0 to 100. Below are detailed descriptions of what each score range represents:\n",
        "\n",
        "- **Content**:\n",
        "  - Under 60: Insufficient understanding; key points are missing or inaccurate.\n",
        "  - 60-69: Limited understanding; lacks depth or contains significant errors.\n",
        "  - 70-79: Adequate understanding; covers basic points with minor inaccuracies.\n",
        "  - 80-89: Good understanding; demonstrates insight but misses some nuance.\n",
        "  - 90-100: Excellent understanding; thorough, accurate, and insightful.\n",
        "\n",
        "- **Clarity**:\n",
        "  - Under 60: Difficult to understand; poorly structured sentences and significant grammar issues.\n",
        "  - 60-69: Basic communication; clarity is hindered by awkward phrasing or frequent grammar mistakes.\n",
        "  - 70-79: Reasonably clear; some grammar or word choice issues but ideas are understandable.\n",
        "  - 80-89: Clear and effective; minor issues in word choice or sentence structure.\n",
        "  - 90-100: Exceptionally clear and polished; professional and engaging writing.\n",
        "\n",
        "- **Organization**:\n",
        "  - Under 60: Lacks logical structure; ideas are disorganized or incoherent.\n",
        "  - 60-69: Some structure; lacks clear transitions or logical flow between ideas.\n",
        "  - 70-79: Adequate structure; has an introduction, body, and conclusion but may lack refinement.\n",
        "  - 80-89: Well-organized; smooth flow with minor lapses in transitions.\n",
        "  - 90-100: Exceptionally well-organized; seamless transitions and a compelling flow.\n",
        "\n",
        "- **Relevance to Prompt**:\n",
        "  - Under 60: Off-topic or fails to address key elements of the prompt.\n",
        "  - 60-69: Partially relevant; some aspects of the prompt are ignored or misunderstood.\n",
        "  - 70-79: Mostly relevant; addresses most of the prompt but lacks focus in some areas.\n",
        "  - 80-89: Highly relevant; covers all aspects of the prompt with minimal digressions.\n",
        "  - 90-100: Fully relevant; thoroughly addresses all aspects of the prompt with precision.\n",
        "\"\"\""
      ],
      "metadata": {
        "id": "1RcwmfYyMlYh"
      },
      "id": "1RcwmfYyMlYh",
      "execution_count": 13,
      "outputs": []
    },
    {
      "cell_type": "markdown",
      "id": "68734819",
      "metadata": {
        "id": "68734819"
      },
      "source": [
        "## Generate and Display Assignments\n",
        "\n",
        "This code generates student assignments based on the provided prompt, grade-subject pairs, and criteria scores.\n",
        "\n",
        "### Process\n",
        "- **`generate_assignments_with_criteria_definitions`**:  \n",
        "   Uses the OpenAI API to create assignments that reflect specific quality metrics defined in `criteria_scores_list`.\n",
        "\n",
        "- **Inputs**:\n",
        "  - `selected_prompt`: The assignment prompt students respond to.\n",
        "  - `grade_subject_pairs`: A list of grade levels, subjects, and subject areas.\n",
        "  - `criteria_scores_list`: Defines the quality metrics (Content, Clarity, Organization, Relevance).\n",
        "\n",
        "- **Outputs**:\n",
        "  - **`assignments`**: A list of generated assignments displayed in Markdown format, showing:\n",
        "    - Criteria scores.\n",
        "    - The assignment text for each grade-subject pair and quality level.\n",
        "\n",
        "### Purpose\n",
        "- Dynamically generate realistic, high-quality student responses aligned with the specified prompt and metrics.\n"
      ]
    },
    {
      "cell_type": "code",
      "execution_count": 14,
      "id": "27db7841",
      "metadata": {
        "colab": {
          "base_uri": "https://localhost:8080/",
          "height": 1000
        },
        "id": "27db7841",
        "outputId": "81eb253b-9574-4257-b40b-a996cf5c445c"
      },
      "outputs": [
        {
          "output_type": "display_data",
          "data": {
            "text/plain": [
              "<IPython.core.display.Markdown object>"
            ],
            "text/markdown": "### Assignment 1"
          },
          "metadata": {}
        },
        {
          "output_type": "display_data",
          "data": {
            "text/plain": [
              "<IPython.core.display.Markdown object>"
            ],
            "text/markdown": "**Criteria Scores:**"
          },
          "metadata": {}
        },
        {
          "output_type": "display_data",
          "data": {
            "text/plain": [
              "<IPython.core.display.Markdown object>"
            ],
            "text/markdown": "- **Content:** 63/100"
          },
          "metadata": {}
        },
        {
          "output_type": "display_data",
          "data": {
            "text/plain": [
              "<IPython.core.display.Markdown object>"
            ],
            "text/markdown": "- **Clarity:** 70/100"
          },
          "metadata": {}
        },
        {
          "output_type": "display_data",
          "data": {
            "text/plain": [
              "<IPython.core.display.Markdown object>"
            ],
            "text/markdown": "- **Organization:** 66/100"
          },
          "metadata": {}
        },
        {
          "output_type": "display_data",
          "data": {
            "text/plain": [
              "<IPython.core.display.Markdown object>"
            ],
            "text/markdown": "- **Relevance to Prompt:** 64/100"
          },
          "metadata": {}
        },
        {
          "output_type": "display_data",
          "data": {
            "text/plain": [
              "<IPython.core.display.Markdown object>"
            ],
            "text/markdown": "**Score Descriptions:** \nEach criterion is scored from 0 to 100. Below are detailed descriptions of what each score range represents:\n\n- **Content**:\n  - Under 60: Insufficient understanding; key points are missing or inaccurate.\n  - 60-69: Limited understanding; lacks depth or contains significant errors.\n  - 70-79: Adequate understanding; covers basic points with minor inaccuracies.\n  - 80-89: Good understanding; demonstrates insight but misses some nuance.\n  - 90-100: Excellent understanding; thorough, accurate, and insightful.\n\n- **Clarity**:\n  - Under 60: Difficult to understand; poorly structured sentences and significant grammar issues.\n  - 60-69: Basic communication; clarity is hindered by awkward phrasing or frequent grammar mistakes.\n  - 70-79: Reasonably clear; some grammar or word choice issues but ideas are understandable.\n  - 80-89: Clear and effective; minor issues in word choice or sentence structure.\n  - 90-100: Exceptionally clear and polished; professional and engaging writing.\n\n- **Organization**:\n  - Under 60: Lacks logical structure; ideas are disorganized or incoherent.\n  - 60-69: Some structure; lacks clear transitions or logical flow between ideas.\n  - 70-79: Adequate structure; has an introduction, body, and conclusion but may lack refinement.\n  - 80-89: Well-organized; smooth flow with minor lapses in transitions.\n  - 90-100: Exceptionally well-organized; seamless transitions and a compelling flow.\n\n- **Relevance to Prompt**:\n  - Under 60: Off-topic or fails to address key elements of the prompt.\n  - 60-69: Partially relevant; some aspects of the prompt are ignored or misunderstood.\n  - 70-79: Mostly relevant; addresses most of the prompt but lacks focus in some areas.\n  - 80-89: Highly relevant; covers all aspects of the prompt with minimal digressions.\n  - 90-100: Fully relevant; thoroughly addresses all aspects of the prompt with precision.\n"
          },
          "metadata": {}
        },
        {
          "output_type": "display_data",
          "data": {
            "text/plain": [
              "<IPython.core.display.Markdown object>"
            ],
            "text/markdown": "**Assignment Text:** In response to the assignment prompt:\n\nThe Great Depression had a significant economic and social impact on American society in the 1930s. Economically, the stock market crash of 1929 led to widespread unemployment, poverty, and homelessness. Socially, families were torn apart as individuals struggled to find work and provide for their loved ones.\n\nTo address these challenges, President Franklin D. Roosevelt introduced the New Deal programs. These initiatives aimed to provide relief, recovery, and reform. Relief programs like the Civilian Conservation Corps (CCC) and the Works Progress Administration (WPA) offered employment opportunities to millions of Americans, thereby alleviating some of the economic hardships.\n\nFurthermore, the New Deal included reforms such as the Social Security Act, which established a safety net for the elderly and unemployed. The Tennessee Valley Authority (TVA) was another successful program that brought electricity and economic development to rural areas.\n\nOverall, the New Deal programs played a crucial role in mitigating the effects of the Great Depression by providing immediate relief and implementing long-term reforms that aimed to stabilize the economy and society at large."
          },
          "metadata": {}
        },
        {
          "output_type": "display_data",
          "data": {
            "text/plain": [
              "<IPython.core.display.Markdown object>"
            ],
            "text/markdown": "### Assignment 2"
          },
          "metadata": {}
        },
        {
          "output_type": "display_data",
          "data": {
            "text/plain": [
              "<IPython.core.display.Markdown object>"
            ],
            "text/markdown": "**Criteria Scores:**"
          },
          "metadata": {}
        },
        {
          "output_type": "display_data",
          "data": {
            "text/plain": [
              "<IPython.core.display.Markdown object>"
            ],
            "text/markdown": "- **Content:** 85/100"
          },
          "metadata": {}
        },
        {
          "output_type": "display_data",
          "data": {
            "text/plain": [
              "<IPython.core.display.Markdown object>"
            ],
            "text/markdown": "- **Clarity:** 88/100"
          },
          "metadata": {}
        },
        {
          "output_type": "display_data",
          "data": {
            "text/plain": [
              "<IPython.core.display.Markdown object>"
            ],
            "text/markdown": "- **Organization:** 87/100"
          },
          "metadata": {}
        },
        {
          "output_type": "display_data",
          "data": {
            "text/plain": [
              "<IPython.core.display.Markdown object>"
            ],
            "text/markdown": "- **Relevance to Prompt:** 86/100"
          },
          "metadata": {}
        },
        {
          "output_type": "display_data",
          "data": {
            "text/plain": [
              "<IPython.core.display.Markdown object>"
            ],
            "text/markdown": "**Score Descriptions:** \nEach criterion is scored from 0 to 100. Below are detailed descriptions of what each score range represents:\n\n- **Content**:\n  - Under 60: Insufficient understanding; key points are missing or inaccurate.\n  - 60-69: Limited understanding; lacks depth or contains significant errors.\n  - 70-79: Adequate understanding; covers basic points with minor inaccuracies.\n  - 80-89: Good understanding; demonstrates insight but misses some nuance.\n  - 90-100: Excellent understanding; thorough, accurate, and insightful.\n\n- **Clarity**:\n  - Under 60: Difficult to understand; poorly structured sentences and significant grammar issues.\n  - 60-69: Basic communication; clarity is hindered by awkward phrasing or frequent grammar mistakes.\n  - 70-79: Reasonably clear; some grammar or word choice issues but ideas are understandable.\n  - 80-89: Clear and effective; minor issues in word choice or sentence structure.\n  - 90-100: Exceptionally clear and polished; professional and engaging writing.\n\n- **Organization**:\n  - Under 60: Lacks logical structure; ideas are disorganized or incoherent.\n  - 60-69: Some structure; lacks clear transitions or logical flow between ideas.\n  - 70-79: Adequate structure; has an introduction, body, and conclusion but may lack refinement.\n  - 80-89: Well-organized; smooth flow with minor lapses in transitions.\n  - 90-100: Exceptionally well-organized; seamless transitions and a compelling flow.\n\n- **Relevance to Prompt**:\n  - Under 60: Off-topic or fails to address key elements of the prompt.\n  - 60-69: Partially relevant; some aspects of the prompt are ignored or misunderstood.\n  - 70-79: Mostly relevant; addresses most of the prompt but lacks focus in some areas.\n  - 80-89: Highly relevant; covers all aspects of the prompt with minimal digressions.\n  - 90-100: Fully relevant; thoroughly addresses all aspects of the prompt with precision.\n"
          },
          "metadata": {}
        },
        {
          "output_type": "display_data",
          "data": {
            "text/plain": [
              "<IPython.core.display.Markdown object>"
            ],
            "text/markdown": "**Assignment Text:** In the 1930s, the Great Depression significantly impacted American society both economically and socially. The economic downturn led to widespread unemployment, poverty, and a decrease in consumer spending. This had a domino effect on social structures, causing increased homelessness, food insecurity, and strain on families.\n\nTo address these challenges, President Franklin D. Roosevelt implemented the New Deal programs. These initiatives aimed to provide relief, recovery, and reform. Relief programs like the Civilian Conservation Corps (CCC) offered jobs to young men, helping them support their families. Recovery efforts focused on stabilizing the economy through projects like the Works Progress Administration (WPA), which employed millions in public works projects.\n\nMoreover, the New Deal introduced social security programs to protect the elderly and disabled, and regulations were imposed to prevent another economic collapse. The Federal Deposit Insurance Corporation (FDIC) was established to restore trust in banks. These efforts were crucial in restoring confidence in the government and stabilizing the country during one of its most challenging times.\n\nOverall, the New Deal programs played a vital role in addressing the economic and social impacts of the Great Depression by providing immediate relief and implementing long-term reforms to prevent future crises."
          },
          "metadata": {}
        },
        {
          "output_type": "display_data",
          "data": {
            "text/plain": [
              "<IPython.core.display.Markdown object>"
            ],
            "text/markdown": "### Assignment 3"
          },
          "metadata": {}
        },
        {
          "output_type": "display_data",
          "data": {
            "text/plain": [
              "<IPython.core.display.Markdown object>"
            ],
            "text/markdown": "**Criteria Scores:**"
          },
          "metadata": {}
        },
        {
          "output_type": "display_data",
          "data": {
            "text/plain": [
              "<IPython.core.display.Markdown object>"
            ],
            "text/markdown": "- **Content:** 78/100"
          },
          "metadata": {}
        },
        {
          "output_type": "display_data",
          "data": {
            "text/plain": [
              "<IPython.core.display.Markdown object>"
            ],
            "text/markdown": "- **Clarity:** 75/100"
          },
          "metadata": {}
        },
        {
          "output_type": "display_data",
          "data": {
            "text/plain": [
              "<IPython.core.display.Markdown object>"
            ],
            "text/markdown": "- **Organization:** 80/100"
          },
          "metadata": {}
        },
        {
          "output_type": "display_data",
          "data": {
            "text/plain": [
              "<IPython.core.display.Markdown object>"
            ],
            "text/markdown": "- **Relevance to Prompt:** 79/100"
          },
          "metadata": {}
        },
        {
          "output_type": "display_data",
          "data": {
            "text/plain": [
              "<IPython.core.display.Markdown object>"
            ],
            "text/markdown": "**Score Descriptions:** \nEach criterion is scored from 0 to 100. Below are detailed descriptions of what each score range represents:\n\n- **Content**:\n  - Under 60: Insufficient understanding; key points are missing or inaccurate.\n  - 60-69: Limited understanding; lacks depth or contains significant errors.\n  - 70-79: Adequate understanding; covers basic points with minor inaccuracies.\n  - 80-89: Good understanding; demonstrates insight but misses some nuance.\n  - 90-100: Excellent understanding; thorough, accurate, and insightful.\n\n- **Clarity**:\n  - Under 60: Difficult to understand; poorly structured sentences and significant grammar issues.\n  - 60-69: Basic communication; clarity is hindered by awkward phrasing or frequent grammar mistakes.\n  - 70-79: Reasonably clear; some grammar or word choice issues but ideas are understandable.\n  - 80-89: Clear and effective; minor issues in word choice or sentence structure.\n  - 90-100: Exceptionally clear and polished; professional and engaging writing.\n\n- **Organization**:\n  - Under 60: Lacks logical structure; ideas are disorganized or incoherent.\n  - 60-69: Some structure; lacks clear transitions or logical flow between ideas.\n  - 70-79: Adequate structure; has an introduction, body, and conclusion but may lack refinement.\n  - 80-89: Well-organized; smooth flow with minor lapses in transitions.\n  - 90-100: Exceptionally well-organized; seamless transitions and a compelling flow.\n\n- **Relevance to Prompt**:\n  - Under 60: Off-topic or fails to address key elements of the prompt.\n  - 60-69: Partially relevant; some aspects of the prompt are ignored or misunderstood.\n  - 70-79: Mostly relevant; addresses most of the prompt but lacks focus in some areas.\n  - 80-89: Highly relevant; covers all aspects of the prompt with minimal digressions.\n  - 90-100: Fully relevant; thoroughly addresses all aspects of the prompt with precision.\n"
          },
          "metadata": {}
        },
        {
          "output_type": "display_data",
          "data": {
            "text/plain": [
              "<IPython.core.display.Markdown object>"
            ],
            "text/markdown": "**Assignment Text:** In the early 1930s, the United States was plunged into the Great Depression, a devastating economic crisis that severely impacted American society. The stock market crash of 1929 led to widespread unemployment, poverty, and a sharp decline in production and consumption. Families struggled to make ends meet, businesses failed, and individuals faced dire circumstances. The social fabric of the nation was strained as communities grappled with the effects of the economic downturn.\n\nIn response to the challenges posed by the Great Depression, President Franklin D. Roosevelt introduced the New Deal programs in the 1930s. These initiatives aimed to provide relief, recovery, and reform to address the economic and social consequences of the crisis. Through programs like the Civilian Conservation Corps (CCC), the Works Progress Administration (WPA), and the Social Security Act, the government sought to create jobs, support the unemployed, and establish a social safety net for the most vulnerable members of society.\n\nThe New Deal programs had a significant impact on American society by alleviating some of the hardships faced by individuals and families during the Great Depression. They helped stimulate economic activity, provide assistance to those in need, and promote long-term stability through regulatory reforms. While the New Deal was not without its critics and limitations, it represented a bold and innovative approach to addressing the unprecedented challenges of the era.\n\nOverall, the economic and social impact of the Great Depression on American society was profound, shaping the course of history and influencing the role of government in addressing crises. The New Deal programs of the 1930s played a crucial role in mitigating the effects of the depression and laying the groundwork for a more resilient and inclusive society.\n\n---\nBased on the given criteria for an 11th-grade US History assignment, this response aligns with the expected quality levels, covering the content, clarity, organization, and relevance to the prompt effectively."
          },
          "metadata": {}
        },
        {
          "output_type": "display_data",
          "data": {
            "text/plain": [
              "<IPython.core.display.Markdown object>"
            ],
            "text/markdown": "### Assignment 4"
          },
          "metadata": {}
        },
        {
          "output_type": "display_data",
          "data": {
            "text/plain": [
              "<IPython.core.display.Markdown object>"
            ],
            "text/markdown": "**Criteria Scores:**"
          },
          "metadata": {}
        },
        {
          "output_type": "display_data",
          "data": {
            "text/plain": [
              "<IPython.core.display.Markdown object>"
            ],
            "text/markdown": "- **Content:** 99/100"
          },
          "metadata": {}
        },
        {
          "output_type": "display_data",
          "data": {
            "text/plain": [
              "<IPython.core.display.Markdown object>"
            ],
            "text/markdown": "- **Clarity:** 100/100"
          },
          "metadata": {}
        },
        {
          "output_type": "display_data",
          "data": {
            "text/plain": [
              "<IPython.core.display.Markdown object>"
            ],
            "text/markdown": "- **Organization:** 98/100"
          },
          "metadata": {}
        },
        {
          "output_type": "display_data",
          "data": {
            "text/plain": [
              "<IPython.core.display.Markdown object>"
            ],
            "text/markdown": "- **Relevance to Prompt:** 97/100"
          },
          "metadata": {}
        },
        {
          "output_type": "display_data",
          "data": {
            "text/plain": [
              "<IPython.core.display.Markdown object>"
            ],
            "text/markdown": "**Score Descriptions:** \nEach criterion is scored from 0 to 100. Below are detailed descriptions of what each score range represents:\n\n- **Content**:\n  - Under 60: Insufficient understanding; key points are missing or inaccurate.\n  - 60-69: Limited understanding; lacks depth or contains significant errors.\n  - 70-79: Adequate understanding; covers basic points with minor inaccuracies.\n  - 80-89: Good understanding; demonstrates insight but misses some nuance.\n  - 90-100: Excellent understanding; thorough, accurate, and insightful.\n\n- **Clarity**:\n  - Under 60: Difficult to understand; poorly structured sentences and significant grammar issues.\n  - 60-69: Basic communication; clarity is hindered by awkward phrasing or frequent grammar mistakes.\n  - 70-79: Reasonably clear; some grammar or word choice issues but ideas are understandable.\n  - 80-89: Clear and effective; minor issues in word choice or sentence structure.\n  - 90-100: Exceptionally clear and polished; professional and engaging writing.\n\n- **Organization**:\n  - Under 60: Lacks logical structure; ideas are disorganized or incoherent.\n  - 60-69: Some structure; lacks clear transitions or logical flow between ideas.\n  - 70-79: Adequate structure; has an introduction, body, and conclusion but may lack refinement.\n  - 80-89: Well-organized; smooth flow with minor lapses in transitions.\n  - 90-100: Exceptionally well-organized; seamless transitions and a compelling flow.\n\n- **Relevance to Prompt**:\n  - Under 60: Off-topic or fails to address key elements of the prompt.\n  - 60-69: Partially relevant; some aspects of the prompt are ignored or misunderstood.\n  - 70-79: Mostly relevant; addresses most of the prompt but lacks focus in some areas.\n  - 80-89: Highly relevant; covers all aspects of the prompt with minimal digressions.\n  - 90-100: Fully relevant; thoroughly addresses all aspects of the prompt with precision.\n"
          },
          "metadata": {}
        },
        {
          "output_type": "display_data",
          "data": {
            "text/plain": [
              "<IPython.core.display.Markdown object>"
            ],
            "text/markdown": "**Assignment Text:** As an 11th-grade student, here is a response to the assignment prompt:\n\nThe Great Depression had profound economic and social impacts on American society in the 1930s. Economically, the stock market crash of 1929 led to widespread unemployment, poverty, and a significant decline in industrial production. Socially, families struggled to make ends meet, with many individuals experiencing homelessness and hunger.\n\nIn response to these challenges, President Franklin D. Roosevelt introduced the New Deal programs. These initiatives aimed to address the economic hardships faced by Americans through a series of relief, recovery, and reform measures. For example, the Works Progress Administration (WPA) provided jobs for unemployed individuals, stimulating economic activity and improving infrastructure.\n\nFurthermore, programs like the Social Security Act established a safety net for the elderly and disabled, enhancing social welfare. The New Deal also implemented regulations to prevent another financial crisis, such as the Glass-Steagall Act, which separated commercial and investment banking.\n\nOverall, the New Deal programs played a crucial role in alleviating the impacts of the Great Depression by providing relief to individuals, families, and the nation as a whole. Through these efforts, the government sought to restore economic stability, reduce poverty, and promote social welfare during a time of national crisis."
          },
          "metadata": {}
        }
      ],
      "source": [
        "# Generate and display assignments with Markdown formatting\n",
        "assignments = generate_assignments_with_criteria_definitions(selected_prompt, grade_subject_pairs, criteria_scores_list, score_descriptions)\n"
      ]
    },
    {
      "cell_type": "code",
      "execution_count": null,
      "id": "0e05f577",
      "metadata": {
        "id": "0e05f577"
      },
      "outputs": [],
      "source": []
    }
  ],
  "metadata": {
    "kernelspec": {
      "display_name": "Python 3 (ipykernel)",
      "language": "python",
      "name": "python3"
    },
    "language_info": {
      "codemirror_mode": {
        "name": "ipython",
        "version": 3
      },
      "file_extension": ".py",
      "mimetype": "text/x-python",
      "name": "python",
      "nbconvert_exporter": "python",
      "pygments_lexer": "ipython3",
      "version": "3.11.4"
    },
    "colab": {
      "provenance": []
    }
  },
  "nbformat": 4,
  "nbformat_minor": 5
}